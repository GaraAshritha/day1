{
  "nbformat": 4,
  "nbformat_minor": 0,
  "metadata": {
    "colab": {
      "name": "Copy of day1assignment.ipynb",
      "provenance": [],
      "authorship_tag": "ABX9TyMuTaHeZgAQLzxR8GQjnflq",
      "include_colab_link": true
    },
    "kernelspec": {
      "name": "python3",
      "display_name": "Python 3"
    }
  },
  "cells": [
    {
      "cell_type": "markdown",
      "metadata": {
        "id": "view-in-github",
        "colab_type": "text"
      },
      "source": [
        "<a href=\"https://colab.research.google.com/github/GaraAshritha/day1/blob/main/Copy_of_day1assignment.ipynb\" target=\"_parent\"><img src=\"https://colab.research.google.com/assets/colab-badge.svg\" alt=\"Open In Colab\"/></a>"
      ]
    },
    {
      "cell_type": "code",
      "metadata": {
        "id": "ZFc8cv5DPWzv",
        "outputId": "71a46028-d650-4fcc-f7bd-748cad08a757",
        "colab": {
          "base_uri": "https://localhost:8080/"
        }
      },
      "source": [
        "print(\"RAINBOW\")"
      ],
      "execution_count": null,
      "outputs": [
        {
          "output_type": "stream",
          "text": [
            "RAINBOW\n"
          ],
          "name": "stdout"
        }
      ]
    },
    {
      "cell_type": "code",
      "metadata": {
        "id": "zGIp2kkTP3HT",
        "outputId": "5492a150-3aad-457c-e4ae-892055b41aa4",
        "colab": {
          "base_uri": "https://localhost:8080/"
        }
      },
      "source": [
        "print(\"LETS UPGRADE\")"
      ],
      "execution_count": null,
      "outputs": [
        {
          "output_type": "stream",
          "text": [
            "LETS UPGRADE\n"
          ],
          "name": "stdout"
        }
      ]
    },
    {
      "cell_type": "code",
      "metadata": {
        "id": "orFGixxrP7UM",
        "outputId": "afa56eb3-a7f2-4a9a-f749-028f4a4925a3",
        "colab": {
          "base_uri": "https://localhost:8080/"
        }
      },
      "source": [
        "CP=int(input()) \n",
        "SP=int(input()) \n",
        "if (CP>SP):\n",
        "    print(\"Loss\") \n",
        "elif (SP>CP):\n",
        "    print(\"Profit\") \n",
        "else:\n",
        "    print(\"Neither\")"
      ],
      "execution_count": null,
      "outputs": [
        {
          "output_type": "stream",
          "text": [
            "20\n",
            "30\n",
            "Profit\n"
          ],
          "name": "stdout"
        }
      ]
    },
    {
      "cell_type": "code",
      "metadata": {
        "id": "StWhe3crSRT5",
        "outputId": "af122e5a-cbb9-4a3e-bb1b-1d7c64ed8535",
        "colab": {
          "base_uri": "https://localhost:8080/"
        }
      },
      "source": [
        "Euro=float(input()) \n",
        "Rupees=Euro*80\n",
        "print(Rupees,\"Rupees\")"
      ],
      "execution_count": null,
      "outputs": [
        {
          "output_type": "stream",
          "text": [
            "2\n",
            "160.0 Rupees\n"
          ],
          "name": "stdout"
        }
      ]
    }
  ]
}